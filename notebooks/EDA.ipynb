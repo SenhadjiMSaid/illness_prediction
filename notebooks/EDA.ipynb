{
 "cells": [
  {
   "cell_type": "code",
   "execution_count": 1,
   "metadata": {},
   "outputs": [
    {
     "data": {
      "text/html": [
       "<div>\n",
       "<style scoped>\n",
       "    .dataframe tbody tr th:only-of-type {\n",
       "        vertical-align: middle;\n",
       "    }\n",
       "\n",
       "    .dataframe tbody tr th {\n",
       "        vertical-align: top;\n",
       "    }\n",
       "\n",
       "    .dataframe thead th {\n",
       "        text-align: right;\n",
       "    }\n",
       "</style>\n",
       "<table border=\"1\" class=\"dataframe\">\n",
       "  <thead>\n",
       "    <tr style=\"text-align: right;\">\n",
       "      <th></th>\n",
       "      <th>Disease</th>\n",
       "      <th>Fever</th>\n",
       "      <th>Cough</th>\n",
       "      <th>Fatigue</th>\n",
       "      <th>Difficulty Breathing</th>\n",
       "      <th>Age</th>\n",
       "      <th>Gender</th>\n",
       "      <th>is_labeled</th>\n",
       "      <th>Blood Pressure_High</th>\n",
       "      <th>Blood Pressure_Low</th>\n",
       "      <th>Blood Pressure_Normal</th>\n",
       "      <th>Cholesterol Level_High</th>\n",
       "      <th>Cholesterol Level_Low</th>\n",
       "      <th>Cholesterol Level_Normal</th>\n",
       "    </tr>\n",
       "  </thead>\n",
       "  <tbody>\n",
       "    <tr>\n",
       "      <th>0</th>\n",
       "      <td>NaN</td>\n",
       "      <td>1</td>\n",
       "      <td>0</td>\n",
       "      <td>1</td>\n",
       "      <td>1</td>\n",
       "      <td>-2.091160</td>\n",
       "      <td>0</td>\n",
       "      <td>0</td>\n",
       "      <td>0.0</td>\n",
       "      <td>1.0</td>\n",
       "      <td>0.0</td>\n",
       "      <td>0.0</td>\n",
       "      <td>0.0</td>\n",
       "      <td>1.0</td>\n",
       "    </tr>\n",
       "    <tr>\n",
       "      <th>1</th>\n",
       "      <td>21.0</td>\n",
       "      <td>0</td>\n",
       "      <td>1</td>\n",
       "      <td>1</td>\n",
       "      <td>0</td>\n",
       "      <td>-1.631964</td>\n",
       "      <td>0</td>\n",
       "      <td>1</td>\n",
       "      <td>0.0</td>\n",
       "      <td>0.0</td>\n",
       "      <td>1.0</td>\n",
       "      <td>0.0</td>\n",
       "      <td>0.0</td>\n",
       "      <td>1.0</td>\n",
       "    </tr>\n",
       "    <tr>\n",
       "      <th>2</th>\n",
       "      <td>33.0</td>\n",
       "      <td>0</td>\n",
       "      <td>1</td>\n",
       "      <td>1</td>\n",
       "      <td>0</td>\n",
       "      <td>-1.631964</td>\n",
       "      <td>0</td>\n",
       "      <td>1</td>\n",
       "      <td>0.0</td>\n",
       "      <td>0.0</td>\n",
       "      <td>1.0</td>\n",
       "      <td>0.0</td>\n",
       "      <td>0.0</td>\n",
       "      <td>1.0</td>\n",
       "    </tr>\n",
       "    <tr>\n",
       "      <th>3</th>\n",
       "      <td>4.0</td>\n",
       "      <td>1</td>\n",
       "      <td>1</td>\n",
       "      <td>0</td>\n",
       "      <td>1</td>\n",
       "      <td>-1.631964</td>\n",
       "      <td>1</td>\n",
       "      <td>1</td>\n",
       "      <td>0.0</td>\n",
       "      <td>0.0</td>\n",
       "      <td>1.0</td>\n",
       "      <td>0.0</td>\n",
       "      <td>0.0</td>\n",
       "      <td>1.0</td>\n",
       "    </tr>\n",
       "    <tr>\n",
       "      <th>4</th>\n",
       "      <td>4.0</td>\n",
       "      <td>1</td>\n",
       "      <td>1</td>\n",
       "      <td>0</td>\n",
       "      <td>1</td>\n",
       "      <td>-1.631964</td>\n",
       "      <td>1</td>\n",
       "      <td>1</td>\n",
       "      <td>0.0</td>\n",
       "      <td>0.0</td>\n",
       "      <td>1.0</td>\n",
       "      <td>0.0</td>\n",
       "      <td>0.0</td>\n",
       "      <td>1.0</td>\n",
       "    </tr>\n",
       "  </tbody>\n",
       "</table>\n",
       "</div>"
      ],
      "text/plain": [
       "   Disease  Fever  Cough  Fatigue  Difficulty Breathing       Age  Gender  \\\n",
       "0      NaN      1      0        1                     1 -2.091160       0   \n",
       "1     21.0      0      1        1                     0 -1.631964       0   \n",
       "2     33.0      0      1        1                     0 -1.631964       0   \n",
       "3      4.0      1      1        0                     1 -1.631964       1   \n",
       "4      4.0      1      1        0                     1 -1.631964       1   \n",
       "\n",
       "   is_labeled  Blood Pressure_High  Blood Pressure_Low  Blood Pressure_Normal  \\\n",
       "0           0                  0.0                 1.0                    0.0   \n",
       "1           1                  0.0                 0.0                    1.0   \n",
       "2           1                  0.0                 0.0                    1.0   \n",
       "3           1                  0.0                 0.0                    1.0   \n",
       "4           1                  0.0                 0.0                    1.0   \n",
       "\n",
       "   Cholesterol Level_High  Cholesterol Level_Low  Cholesterol Level_Normal  \n",
       "0                     0.0                    0.0                       1.0  \n",
       "1                     0.0                    0.0                       1.0  \n",
       "2                     0.0                    0.0                       1.0  \n",
       "3                     0.0                    0.0                       1.0  \n",
       "4                     0.0                    0.0                       1.0  "
      ]
     },
     "execution_count": 1,
     "metadata": {},
     "output_type": "execute_result"
    }
   ],
   "source": [
    "import pandas as pd\n",
    "\n",
    "file_path = \"../data/processed/Modified_Semi_Supervised_Dataset.csv\"\n",
    "data = pd.read_csv(file_path)\n",
    "data.head()"
   ]
  },
  {
   "cell_type": "code",
   "execution_count": 2,
   "metadata": {},
   "outputs": [
    {
     "data": {
      "text/plain": [
       "['Disease',\n",
       " 'Fever',\n",
       " 'Cough',\n",
       " 'Fatigue',\n",
       " 'Difficulty Breathing',\n",
       " 'Age',\n",
       " 'Gender',\n",
       " 'is_labeled',\n",
       " 'Blood Pressure_High',\n",
       " 'Blood Pressure_Low',\n",
       " 'Blood Pressure_Normal',\n",
       " 'Cholesterol Level_High',\n",
       " 'Cholesterol Level_Low',\n",
       " 'Cholesterol Level_Normal']"
      ]
     },
     "execution_count": 2,
     "metadata": {},
     "output_type": "execute_result"
    }
   ],
   "source": [
    "data.columns.tolist()"
   ]
  },
  {
   "cell_type": "code",
   "execution_count": 3,
   "metadata": {},
   "outputs": [
    {
     "data": {
      "text/plain": [
       "(349, 14)"
      ]
     },
     "execution_count": 3,
     "metadata": {},
     "output_type": "execute_result"
    }
   ],
   "source": [
    "data.shape"
   ]
  },
  {
   "cell_type": "code",
   "execution_count": 4,
   "metadata": {},
   "outputs": [
    {
     "data": {
      "text/plain": [
       "Disease                     69\n",
       "Fever                        0\n",
       "Cough                        0\n",
       "Fatigue                      0\n",
       "Difficulty Breathing         0\n",
       "Age                          0\n",
       "Gender                       0\n",
       "is_labeled                   0\n",
       "Blood Pressure_High          0\n",
       "Blood Pressure_Low           0\n",
       "Blood Pressure_Normal        0\n",
       "Cholesterol Level_High       0\n",
       "Cholesterol Level_Low        0\n",
       "Cholesterol Level_Normal     0\n",
       "dtype: int64"
      ]
     },
     "execution_count": 4,
     "metadata": {},
     "output_type": "execute_result"
    }
   ],
   "source": [
    "data.isnull().sum()"
   ]
  },
  {
   "cell_type": "code",
   "execution_count": 5,
   "metadata": {},
   "outputs": [
    {
     "data": {
      "text/plain": [
       "Disease                     float64\n",
       "Fever                         int64\n",
       "Cough                         int64\n",
       "Fatigue                       int64\n",
       "Difficulty Breathing          int64\n",
       "Age                         float64\n",
       "Gender                        int64\n",
       "is_labeled                    int64\n",
       "Blood Pressure_High         float64\n",
       "Blood Pressure_Low          float64\n",
       "Blood Pressure_Normal       float64\n",
       "Cholesterol Level_High      float64\n",
       "Cholesterol Level_Low       float64\n",
       "Cholesterol Level_Normal    float64\n",
       "dtype: object"
      ]
     },
     "execution_count": 5,
     "metadata": {},
     "output_type": "execute_result"
    }
   ],
   "source": [
    "data.dtypes"
   ]
  },
  {
   "cell_type": "code",
   "execution_count": 6,
   "metadata": {},
   "outputs": [
    {
     "data": {
      "text/plain": [
       "104"
      ]
     },
     "execution_count": 6,
     "metadata": {},
     "output_type": "execute_result"
    }
   ],
   "source": [
    "distinct_disease_names = data[\"Disease\"].unique()\n",
    "len(distinct_disease_names)"
   ]
  },
  {
   "cell_type": "code",
   "execution_count": 7,
   "metadata": {},
   "outputs": [
    {
     "name": "stdout",
     "output_type": "stream",
     "text": [
      "is_labeled\n",
      "1    280\n",
      "0     69\n",
      "Name: count, dtype: int64\n"
     ]
    }
   ],
   "source": [
    "print(data['is_labeled'].value_counts())\n"
   ]
  },
  {
   "cell_type": "code",
   "execution_count": 8,
   "metadata": {},
   "outputs": [
    {
     "name": "stdout",
     "output_type": "stream",
     "text": [
      "Disease\n",
      "4.0      16\n",
      "89.0     13\n",
      "60.0      9\n",
      "68.0      9\n",
      "45.0      8\n",
      "         ..\n",
      "83.0      1\n",
      "39.0      1\n",
      "91.0      1\n",
      "94.0      1\n",
      "101.0     1\n",
      "Name: count, Length: 103, dtype: int64\n",
      "is_labeled\n",
      "1    280\n",
      "0     69\n",
      "Name: count, dtype: int64\n"
     ]
    }
   ],
   "source": [
    "print(data['Disease'].value_counts())\n",
    "print(data['is_labeled'].value_counts())\n"
   ]
  },
  {
   "cell_type": "code",
   "execution_count": 9,
   "metadata": {},
   "outputs": [
    {
     "name": "stdout",
     "output_type": "stream",
     "text": [
      "          Disease       Fever       Cough    Fatigue  Difficulty Breathing  \\\n",
      "count  280.000000  349.000000  349.000000  349.00000            349.000000   \n",
      "mean    48.664286    0.501433    0.478510    0.69341              0.252149   \n",
      "std     29.413286    0.500716    0.500255    0.46174              0.434870   \n",
      "min      0.000000    0.000000    0.000000    0.00000              0.000000   \n",
      "25%     23.750000    0.000000    0.000000    0.00000              0.000000   \n",
      "50%     49.000000    1.000000    0.000000    1.00000              0.000000   \n",
      "75%     71.000000    1.000000    1.000000    1.00000              1.000000   \n",
      "max    102.000000    1.000000    1.000000    1.00000              1.000000   \n",
      "\n",
      "                Age      Gender  is_labeled  Blood Pressure_High  \\\n",
      "count  3.490000e+02  349.000000  349.000000           349.000000   \n",
      "mean  -2.443127e-16    0.495702    0.802292             0.478510   \n",
      "std    1.001436e+00    0.500699    0.398842             0.500255   \n",
      "min   -2.091160e+00    0.000000    0.000000             0.000000   \n",
      "25%   -8.666383e-01    0.000000    1.000000             0.000000   \n",
      "50%   -1.013125e-01    0.000000    1.000000             0.000000   \n",
      "75%    6.640134e-01    1.000000    1.000000             1.000000   \n",
      "max    3.342654e+00    1.000000    1.000000             1.000000   \n",
      "\n",
      "       Blood Pressure_Low  Blood Pressure_Normal  Cholesterol Level_High  \\\n",
      "count          349.000000             349.000000              349.000000   \n",
      "mean             0.051576               0.469914                0.475645   \n",
      "std              0.221487               0.499811                0.500123   \n",
      "min              0.000000               0.000000                0.000000   \n",
      "25%              0.000000               0.000000                0.000000   \n",
      "50%              0.000000               0.000000                0.000000   \n",
      "75%              0.000000               1.000000                1.000000   \n",
      "max              1.000000               1.000000                1.000000   \n",
      "\n",
      "       Cholesterol Level_Low  Cholesterol Level_Normal  \n",
      "count             349.000000                349.000000  \n",
      "mean                0.097421                  0.426934  \n",
      "std                 0.296956                  0.495343  \n",
      "min                 0.000000                  0.000000  \n",
      "25%                 0.000000                  0.000000  \n",
      "50%                 0.000000                  0.000000  \n",
      "75%                 0.000000                  1.000000  \n",
      "max                 1.000000                  1.000000  \n"
     ]
    }
   ],
   "source": [
    "print(data.describe())\n"
   ]
  },
  {
   "cell_type": "code",
   "execution_count": null,
   "metadata": {},
   "outputs": [],
   "source": []
  },
  {
   "cell_type": "code",
   "execution_count": null,
   "metadata": {},
   "outputs": [],
   "source": []
  }
 ],
 "metadata": {
  "kernelspec": {
   "display_name": "illness_prediction",
   "language": "python",
   "name": "python3"
  },
  "language_info": {
   "codemirror_mode": {
    "name": "ipython",
    "version": 3
   },
   "file_extension": ".py",
   "mimetype": "text/x-python",
   "name": "python",
   "nbconvert_exporter": "python",
   "pygments_lexer": "ipython3",
   "version": "3.10.15"
  }
 },
 "nbformat": 4,
 "nbformat_minor": 2
}
