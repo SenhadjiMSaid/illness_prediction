{
 "cells": [
  {
   "cell_type": "code",
   "execution_count": 13,
   "metadata": {},
   "outputs": [
    {
     "name": "stdout",
     "output_type": "stream",
     "text": [
      "Dataset saved as 'Synthetic_Diseases_Dataset_1500.csv'\n"
     ]
    }
   ],
   "source": [
    "import pandas as pd\n",
    "import numpy as np\n",
    "\n",
    "# Set random seed for reproducibility\n",
    "np.random.seed(42)\n",
    "\n",
    "# Define possible values for each column\n",
    "possible_diseases = ['Influenza', 'Common Cold', 'Eczema', 'Asthma', 'Dengue Fever']\n",
    "possible_binary = ['Yes', 'No']\n",
    "possible_genders = ['Male', 'Female']\n",
    "possible_blood_pressure = ['Low', 'Normal', 'High']\n",
    "possible_cholesterol = ['Low', 'Normal', 'High']\n",
    "\n",
    "# Generate synthetic data\n",
    "num_samples = 1500\n",
    "synthetic_data = pd.DataFrame({\n",
    "    'Disease': np.random.choice(possible_diseases, num_samples),\n",
    "    'Fever': np.random.choice(possible_binary, num_samples),\n",
    "    'Cough': np.random.choice(possible_binary, num_samples),\n",
    "    'Fatigue': np.random.choice(possible_binary, num_samples),\n",
    "    'Difficulty Breathing': np.random.choice(possible_binary, num_samples),\n",
    "    'Age': np.random.randint(0, 100, num_samples),\n",
    "    'Gender': np.random.choice(possible_genders, num_samples),\n",
    "    'Blood Pressure': np.random.choice(possible_blood_pressure, num_samples),\n",
    "    'Cholesterol Level': np.random.choice(possible_cholesterol, num_samples),\n",
    "    'is_labeled': np.random.choice([1, 0], num_samples, p=[0.7, 0.3])\n",
    "})\n",
    "\n",
    "# Save to a CSV file\n",
    "\n",
    "print(\"Dataset saved as 'Synthetic_Diseases_Dataset_1500.csv'\")\n",
    "modified_path = \"../data/raw/Synthetic_Diseases_Dataset_1500.csv\"\n",
    "synthetic_data.to_csv(modified_path, index=False)"
   ]
  },
  {
   "cell_type": "code",
   "execution_count": 14,
   "metadata": {},
   "outputs": [
    {
     "name": "stdout",
     "output_type": "stream",
     "text": [
      "<class 'pandas.core.frame.DataFrame'>\n",
      "RangeIndex: 1500 entries, 0 to 1499\n",
      "Data columns (total 10 columns):\n",
      " #   Column                Non-Null Count  Dtype \n",
      "---  ------                --------------  ----- \n",
      " 0   Disease               1500 non-null   object\n",
      " 1   Fever                 1500 non-null   object\n",
      " 2   Cough                 1500 non-null   object\n",
      " 3   Fatigue               1500 non-null   object\n",
      " 4   Difficulty Breathing  1500 non-null   object\n",
      " 5   Age                   1500 non-null   int32 \n",
      " 6   Gender                1500 non-null   object\n",
      " 7   Blood Pressure        1500 non-null   object\n",
      " 8   Cholesterol Level     1500 non-null   object\n",
      " 9   is_labeled            1500 non-null   int64 \n",
      "dtypes: int32(1), int64(1), object(8)\n",
      "memory usage: 111.5+ KB\n"
     ]
    }
   ],
   "source": [
    "synthetic_data.info()"
   ]
  },
  {
   "cell_type": "code",
   "execution_count": null,
   "metadata": {},
   "outputs": [],
   "source": []
  }
 ],
 "metadata": {
  "kernelspec": {
   "display_name": "illness_prediction",
   "language": "python",
   "name": "python3"
  },
  "language_info": {
   "codemirror_mode": {
    "name": "ipython",
    "version": 3
   },
   "file_extension": ".py",
   "mimetype": "text/x-python",
   "name": "python",
   "nbconvert_exporter": "python",
   "pygments_lexer": "ipython3",
   "version": "3.10.15"
  }
 },
 "nbformat": 4,
 "nbformat_minor": 2
}
